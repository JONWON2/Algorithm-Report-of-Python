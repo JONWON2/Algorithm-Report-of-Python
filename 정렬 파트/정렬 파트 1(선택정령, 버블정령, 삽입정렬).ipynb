{
 "cells": [
  {
   "cell_type": "markdown",
   "id": "989f118f",
   "metadata": {},
   "source": [
    "* **작성자** : 김종원\n",
    "* 최종 수정일 : 2021.10.14\n",
    "\n",
    "---\n",
    "# 정렬문제\n",
    "\n",
    "\n",
    "## Default 숫자 정보."
   ]
  },
  {
   "cell_type": "code",
   "execution_count": 46,
   "id": "c5a70d3d",
   "metadata": {},
   "outputs": [],
   "source": [
    "# 숫자\n",
    "nums = [1,10, 5, 8, 7, 6, 4, 3, 2, 9]"
   ]
  },
  {
   "cell_type": "markdown",
   "id": "b3e8bbd1",
   "metadata": {},
   "source": [
    "## 1. 선택정렬\n",
    "\n",
    "\n",
    "* 핵심 : \n",
    "\n",
    "    **`선택정렬은 가장 작은것을 선택해서 제일 앞으로 보내자 !! `**"
   ]
  },
  {
   "cell_type": "code",
   "execution_count": 47,
   "id": "a8eb3451",
   "metadata": {},
   "outputs": [
    {
     "name": "stdout",
     "output_type": "stream",
     "text": [
      "원본 배열 정보 :  [1, 10, 5, 8, 7, 6, 4, 3, 2, 9]\n"
     ]
    }
   ],
   "source": [
    "print(\"원본 배열 정보 : \",nums)\n",
    "\n",
    "def select_sort(nums):\n",
    "    for i in range(len(nums)-1):\n",
    "        min_idx = i\n",
    "        for j in range(i+1,len(nums)):\n",
    "            if nums[j] < nums[min_idx]:\n",
    "                min_idx = j\n",
    "        nums[i], nums[min_idx] = nums[min_idx],nums[i] # Swap\n",
    "    return nums\n",
    "\n",
    "print(\"정렬 후 배열 정보 : \",select_sort(nums))"
   ]
  },
  {
   "cell_type": "markdown",
   "id": "e42d0554",
   "metadata": {},
   "source": [
    "## 2. 버블정렬\n",
    "\n",
    "\n",
    "* 핵심 : \n",
    "\n",
    "    **`버블정렬은 옆에있는 값과 비교해서 더 작은 값을 앞으로 보낸다!! `**`"
   ]
  },
  {
   "cell_type": "code",
   "execution_count": 58,
   "id": "3acf240d",
   "metadata": {},
   "outputs": [
    {
     "name": "stdout",
     "output_type": "stream",
     "text": [
      "원본 배열 정보 :  [1, 10, 5, 8, 7, 6, 4, 3, 2, 9]\n"
     ]
    }
   ],
   "source": [
    "nums = [1,10, 5, 8, 7, 6, 4, 3, 2, 9]\n",
    "print(\"원본 배열 정보 : \",nums)\n",
    "\n",
    "def bubble_sort(nums):\n",
    "    for i in range(len(nums) - 1 , 0 , -1):\n",
    "#         print(i,nums[i])\n",
    "        for j in range(i):\n",
    "            if nums[j] > nums[j+1]:\n",
    "                nums[j], nums[j+1] = nums[j+1],nums[j]\n",
    "    return nums\n",
    "\n",
    "print(\"정렬 후 배열 정보 : \",bubble_sort(nums))"
   ]
  },
  {
   "cell_type": "markdown",
   "id": "1534d1d0",
   "metadata": {},
   "source": [
    "## 3. 삽입정렬\n",
    "\n",
    "* 핵심 : \n",
    "\n",
    "    **`삽입정렬은 각 숫자를 적절한 위치에 삽입해라!! `**`"
   ]
  },
  {
   "cell_type": "code",
   "execution_count": 118,
   "id": "3bd92645",
   "metadata": {},
   "outputs": [
    {
     "name": "stdout",
     "output_type": "stream",
     "text": [
      "원본 배열 정보 :  [1, 10, 5, 8, 7, 6, 4, 3, 2, 9]\n",
      "정렬 후 배열 정보 :  [1, 2, 3, 4, 5, 6, 7, 8, 9, 10]\n"
     ]
    }
   ],
   "source": [
    "nums = [1,10, 5, 8, 7, 6, 4, 3, 2, 9]\n",
    "print(\"원본 배열 정보 : \",nums)\n",
    "\n",
    "def insert_sort(nums):\n",
    "    \"\"\"\n",
    "        이해가 안되시면 print문을 주석을 해제 해주세요.\n",
    "    \"\"\"\n",
    "    for end in range(1, len(nums)):\n",
    "        for i in range(end,0, -1):\n",
    "#             print(\"End : \",end,\"이고 \",i,\"는 : \",nums[i],end=\" \")\n",
    "            if nums[i-1] > nums[i]:\n",
    "                nums[i-1], nums[i] = nums[i],nums[i-1]\n",
    "#         print(\"\\n\\n\")\n",
    "#         print(nums)\n",
    "#         print(\"\\n\\n\")\n",
    "    return nums\n",
    "\n",
    "print(\"정렬 후 배열 정보 : \",insert_sort(nums))"
   ]
  },
  {
   "cell_type": "code",
   "execution_count": null,
   "id": "58f64ce4",
   "metadata": {},
   "outputs": [],
   "source": []
  }
 ],
 "metadata": {
  "kernelspec": {
   "display_name": "Python 3 (ipykernel)",
   "language": "python",
   "name": "python3"
  },
  "language_info": {
   "codemirror_mode": {
    "name": "ipython",
    "version": 3
   },
   "file_extension": ".py",
   "mimetype": "text/x-python",
   "name": "python",
   "nbconvert_exporter": "python",
   "pygments_lexer": "ipython3",
   "version": "3.8.11"
  }
 },
 "nbformat": 4,
 "nbformat_minor": 5
}
